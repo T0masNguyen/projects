{
 "cells": [
  {
   "cell_type": "code",
   "execution_count": 3,
   "metadata": {},
   "outputs": [],
   "source": [
    "import paho.mqtt.client as mqtt\n",
    "import json\n",
    "import time\n",
    "import pandas as pd\n",
    "import plotly.express as px\n"
   ]
  },
  {
   "cell_type": "code",
   "execution_count": null,
   "metadata": {},
   "outputs": [],
   "source": [
    "# Configuration\n",
    "COLLECTION_TIME = 30  # Time in seconds to collect data \n",
    "OUTPUT_FILE = \"collected_data.json\"  \n",
    "\n",
    "message_buffer = []\n",
    "\n",
    "def on_connect(client, userdata, flags, rc):\n",
    "    print(f\"Connected with result code {rc}\")\n",
    "    client.subscribe(\"test/all_sensors\")\n",
    "\n",
    "def on_message(client, userdata, msg):\n",
    "    try:\n",
    "        data = json.loads(msg.payload)\n",
    "        message_buffer.append(data)\n",
    "    except json.JSONDecodeError:\n",
    "        print(\"Failed to decode JSON message\")\n",
    "\n",
    "# Set up MQTT client\n",
    "broker_url = \"localhost\" \n",
    "broker_port = 1883 \n",
    "\n",
    "client = mqtt.Client()\n",
    "client.on_connect = on_connect\n",
    "client.on_message = on_message\n",
    "client.connect(broker_url, broker_port, 60)\n",
    "\n",
    "client.loop_start()\n",
    "\n",
    "start_time = time.time()\n",
    "while time.time() - start_time < COLLECTION_TIME:\n",
    "    print(\"Collecting data...\")\n",
    "    time.sleep(1)  \n",
    "\n",
    "client.loop_stop()\n",
    "\n",
    "with open(OUTPUT_FILE, \"w\") as f:\n",
    "    json.dump(message_buffer, f, indent=4)\n",
    "\n"
   ]
  },
  {
   "cell_type": "code",
   "execution_count": null,
   "metadata": {},
   "outputs": [
    {
     "data": {
      "text/html": [
       "<div>\n",
       "<style scoped>\n",
       "    .dataframe tbody tr th:only-of-type {\n",
       "        vertical-align: middle;\n",
       "    }\n",
       "\n",
       "    .dataframe tbody tr th {\n",
       "        vertical-align: top;\n",
       "    }\n",
       "\n",
       "    .dataframe thead th {\n",
       "        text-align: right;\n",
       "    }\n",
       "</style>\n",
       "<table border=\"1\" class=\"dataframe\">\n",
       "  <thead>\n",
       "    <tr style=\"text-align: right;\">\n",
       "      <th></th>\n",
       "      <th>Timestamp</th>\n",
       "      <th>Sensor Name</th>\n",
       "      <th>Sensor Type</th>\n",
       "      <th>Values</th>\n",
       "    </tr>\n",
       "  </thead>\n",
       "  <tbody>\n",
       "    <tr>\n",
       "      <th>2</th>\n",
       "      <td>1738230021408</td>\n",
       "      <td>Goldfish 3-axis Magnetic field sensor</td>\n",
       "      <td>2</td>\n",
       "      <td>[0, 9.875, -47.75]</td>\n",
       "    </tr>\n",
       "    <tr>\n",
       "      <th>20</th>\n",
       "      <td>1738230021510</td>\n",
       "      <td>Goldfish 3-axis Magnetic field sensor</td>\n",
       "      <td>2</td>\n",
       "      <td>[0, 9.875, -47.75]</td>\n",
       "    </tr>\n",
       "    <tr>\n",
       "      <th>38</th>\n",
       "      <td>1738230021610</td>\n",
       "      <td>Goldfish 3-axis Magnetic field sensor</td>\n",
       "      <td>2</td>\n",
       "      <td>[0, 9.875, -47.75]</td>\n",
       "    </tr>\n",
       "    <tr>\n",
       "      <th>56</th>\n",
       "      <td>1738230021711</td>\n",
       "      <td>Goldfish 3-axis Magnetic field sensor</td>\n",
       "      <td>2</td>\n",
       "      <td>[0, 9.875, -47.75]</td>\n",
       "    </tr>\n",
       "    <tr>\n",
       "      <th>74</th>\n",
       "      <td>1738230021814</td>\n",
       "      <td>Goldfish 3-axis Magnetic field sensor</td>\n",
       "      <td>2</td>\n",
       "      <td>[0, 9.875, -47.75]</td>\n",
       "    </tr>\n",
       "    <tr>\n",
       "      <th>...</th>\n",
       "      <td>...</td>\n",
       "      <td>...</td>\n",
       "      <td>...</td>\n",
       "      <td>...</td>\n",
       "    </tr>\n",
       "    <tr>\n",
       "      <th>1712</th>\n",
       "      <td>1738230031005</td>\n",
       "      <td>Goldfish 3-axis Magnetic field sensor</td>\n",
       "      <td>2</td>\n",
       "      <td>[0, 9.875, -47.75]</td>\n",
       "    </tr>\n",
       "    <tr>\n",
       "      <th>1730</th>\n",
       "      <td>1738230031105</td>\n",
       "      <td>Goldfish 3-axis Magnetic field sensor</td>\n",
       "      <td>2</td>\n",
       "      <td>[0, 9.875, -47.75]</td>\n",
       "    </tr>\n",
       "    <tr>\n",
       "      <th>1748</th>\n",
       "      <td>1738230031205</td>\n",
       "      <td>Goldfish 3-axis Magnetic field sensor</td>\n",
       "      <td>2</td>\n",
       "      <td>[0, 9.875, -47.75]</td>\n",
       "    </tr>\n",
       "    <tr>\n",
       "      <th>1766</th>\n",
       "      <td>1738230031305</td>\n",
       "      <td>Goldfish 3-axis Magnetic field sensor</td>\n",
       "      <td>2</td>\n",
       "      <td>[0, 9.875, -47.75]</td>\n",
       "    </tr>\n",
       "    <tr>\n",
       "      <th>1784</th>\n",
       "      <td>1738230031405</td>\n",
       "      <td>Goldfish 3-axis Magnetic field sensor</td>\n",
       "      <td>2</td>\n",
       "      <td>[0, 9.875, -47.75]</td>\n",
       "    </tr>\n",
       "  </tbody>\n",
       "</table>\n",
       "<p>100 rows × 4 columns</p>\n",
       "</div>"
      ],
      "text/plain": [
       "          Timestamp                            Sensor Name  Sensor Type  \\\n",
       "2     1738230021408  Goldfish 3-axis Magnetic field sensor            2   \n",
       "20    1738230021510  Goldfish 3-axis Magnetic field sensor            2   \n",
       "38    1738230021610  Goldfish 3-axis Magnetic field sensor            2   \n",
       "56    1738230021711  Goldfish 3-axis Magnetic field sensor            2   \n",
       "74    1738230021814  Goldfish 3-axis Magnetic field sensor            2   \n",
       "...             ...                                    ...          ...   \n",
       "1712  1738230031005  Goldfish 3-axis Magnetic field sensor            2   \n",
       "1730  1738230031105  Goldfish 3-axis Magnetic field sensor            2   \n",
       "1748  1738230031205  Goldfish 3-axis Magnetic field sensor            2   \n",
       "1766  1738230031305  Goldfish 3-axis Magnetic field sensor            2   \n",
       "1784  1738230031405  Goldfish 3-axis Magnetic field sensor            2   \n",
       "\n",
       "                  Values  \n",
       "2     [0, 9.875, -47.75]  \n",
       "20    [0, 9.875, -47.75]  \n",
       "38    [0, 9.875, -47.75]  \n",
       "56    [0, 9.875, -47.75]  \n",
       "74    [0, 9.875, -47.75]  \n",
       "...                  ...  \n",
       "1712  [0, 9.875, -47.75]  \n",
       "1730  [0, 9.875, -47.75]  \n",
       "1748  [0, 9.875, -47.75]  \n",
       "1766  [0, 9.875, -47.75]  \n",
       "1784  [0, 9.875, -47.75]  \n",
       "\n",
       "[100 rows x 4 columns]"
      ]
     },
     "execution_count": 1,
     "metadata": {},
     "output_type": "execute_result"
    }
   ],
   "source": [
    "# Load the JSON data from the file\n",
    "with open('collected_data.json', 'r') as file:\n",
    "    data = json.load(file)\n",
    "\n",
    "# Extract relevant data\n",
    "sensor_data = []\n",
    "for entry in data:\n",
    "    timestamp = entry.get('timestamp')\n",
    "    sensors = entry.get('sensors', [])\n",
    "    for sensor in sensors:\n",
    "        sensor_name = sensor.get('sensor_name')\n",
    "        sensor_type = sensor.get('sensor_type')\n",
    "        values = sensor.get('values')\n",
    "        sensor_data.append({\n",
    "            'Timestamp': timestamp,\n",
    "            'Sensor Name': sensor_name,\n",
    "            'Sensor Type': sensor_type,\n",
    "            'Values': values\n",
    "        })\n",
    "\n",
    "df = pd.DataFrame(sensor_data)\n",
    "\n",
    "data = df[df[\"Sensor Type\"] == 2]\n",
    "data"
   ]
  },
  {
   "cell_type": "code",
   "execution_count": null,
   "metadata": {},
   "outputs": [
    {
     "data": {
      "application/vnd.plotly.v1+json": {
       "config": {
        "plotlyServerURL": "https://plot.ly"
       },
       "data": [
        {
         "hovertemplate": "variable=X<br>Timestamp=%{x}<br>value=%{y}<extra></extra>",
         "legendgroup": "X",
         "line": {
          "color": "#636efa",
          "dash": "solid"
         },
         "marker": {
          "symbol": "circle"
         },
         "mode": "lines",
         "name": "X",
         "orientation": "v",
         "showlegend": true,
         "type": "scatter",
         "x": [
          1738230021408,
          1738230021510,
          1738230021610,
          1738230021711,
          1738230021814,
          1738230021914,
          1738230022015,
          1738230022115,
          1738230022216,
          1738230022320,
          1738230022421,
          1738230022525,
          1738230022625,
          1738230022725,
          1738230022825,
          1738230022926,
          1738230023030,
          1738230023130,
          1738230023230,
          1738230023330,
          1738230023430,
          1738230023530,
          1738230023632,
          1738230023735,
          1738230023835,
          1738230023936,
          1738230024040,
          1738230024140,
          1738230024240,
          1738230024342,
          1738230024444,
          1738230024544,
          1738230024645,
          1738230024745,
          1738230024845,
          1738230024945,
          1738230025045,
          1738230025145,
          1738230025245,
          1738230025346,
          1738230025447,
          1738230025549,
          1738230025649,
          1738230025749,
          1738230025850,
          1738230025951,
          1738230026055,
          1738230026155,
          1738230026255,
          1738230026355,
          1738230026457,
          1738230026559,
          1738230026659,
          1738230026760,
          1738230026860,
          1738230026960,
          1738230027060,
          1738230027161,
          1738230027262,
          1738230027365,
          1738230027467,
          1738230027571,
          1738230027671,
          1738230027776,
          1738230027877,
          1738230027980,
          1738230028080,
          1738230028180,
          1738230028280,
          1738230028382,
          1738230028485,
          1738230028585,
          1738230028685,
          1738230028785,
          1738230028885,
          1738230028985,
          1738230029086,
          1738230029189,
          1738230029289,
          1738230029390,
          1738230029490,
          1738230029590,
          1738230029690,
          1738230029790,
          1738230029892,
          1738230029995,
          1738230030095,
          1738230030195,
          1738230030295,
          1738230030395,
          1738230030496,
          1738230030596,
          1738230030700,
          1738230030800,
          1738230030901,
          1738230031005,
          1738230031105,
          1738230031205,
          1738230031305,
          1738230031405
         ],
         "xaxis": "x",
         "y": {
          "bdata": "+n5qvHSTSD/6fmq8dJNIP3npJjEIrEw//Knx0k1iQD/8qfHSTWJAP/yp8dJNYkA//Knx0k1iQD/8qfHSTWIgP/yp8dJNYiA/XJSrXeF6RD9clKtd4XpEP1yUq13hekQ//Knx0k1iMD/8qfHSTWIwP/yp8dJNYjA//Knx0k1iMD/8qfHSTWJAP/yp8dJNYkA/+n5qvHSTOD/6fmq8dJNIP/yp8dJNYiA/eekmMQisTD/8qfHSTWIgP/yp8dJNYiA//Knx0k1iID956SYxCKxMP/yp8dJNYiA//Knx0k1iID9clKtd4XpEP1yUq13hekQ/XJSrXeF6RD9clKtd4XpEP1yUq13hekQ/XJSrXeF6RD9clKtd4XpEP1yUq13hekQ/+n5qvHSTSD/8qfHSTWIwP/yp8dJNYjA//Knx0k1iMD/8qfHSTWIwP/yp8dJNYjA//Knx0k1iMD/8qfHSTWIwP/yp8dJNYjA//Knx0k1iID/8qfHSTWIgP/yp8dJNYiA/XJSrXeF6RD9clKtd4XpEP/p+arx0k0g/+n5qvHSTSD/6fmq8dJNIP/p+arx0k0g//Knx0k1iUD/6fmq8dJM4P3npJjEIrEw/+n5qvHSTSD/6fmq8dJNIP/p+arx0k0g/+n5qvHSTSD/8qfHSTWJQP/yp8dJNYkA//Knx0k1iQD/8qfHSTWJAP/yp8dJNYjA//Knx0k1iID/8qfHSTWIgP/yp8dJNYlA/+n5qvHSTOD/6fmq8dJM4P/p+arx0kzg//Knx0k1iQD/8qfHSTWJAP/yp8dJNYkA/+n5qvHSTOD/6fmq8dJM4P/p+arx0kzg/+n5qvHSTOD/6fmq8dJM4P/yp8dJNYiA//Knx0k1iID9clKtd4XpEP1yUq13hekQ//Knx0k1iUD/8qfHSTWJQP/yp8dJNYlA//Knx0k1iUD/8qfHSTWJQP/yp8dJNYlA//Knx0k1iUD/8qfHSTWJQP3npJjEIrEw/XJSrXeF6RD/8qfHSTWIwP/yp8dJNYjA//Knx0k1iQD/8qfHSTWJAP/yp8dJNYkA//Knx0k1iQD8=",
          "dtype": "f8"
         },
         "yaxis": "y"
        },
        {
         "hovertemplate": "variable=Y<br>Timestamp=%{x}<br>value=%{y}<extra></extra>",
         "legendgroup": "Y",
         "line": {
          "color": "#EF553B",
          "dash": "solid"
         },
         "marker": {
          "symbol": "circle"
         },
         "mode": "lines",
         "name": "Y",
         "orientation": "v",
         "showlegend": true,
         "type": "scatter",
         "x": [
          1738230021408,
          1738230021510,
          1738230021610,
          1738230021711,
          1738230021814,
          1738230021914,
          1738230022015,
          1738230022115,
          1738230022216,
          1738230022320,
          1738230022421,
          1738230022525,
          1738230022625,
          1738230022725,
          1738230022825,
          1738230022926,
          1738230023030,
          1738230023130,
          1738230023230,
          1738230023330,
          1738230023430,
          1738230023530,
          1738230023632,
          1738230023735,
          1738230023835,
          1738230023936,
          1738230024040,
          1738230024140,
          1738230024240,
          1738230024342,
          1738230024444,
          1738230024544,
          1738230024645,
          1738230024745,
          1738230024845,
          1738230024945,
          1738230025045,
          1738230025145,
          1738230025245,
          1738230025346,
          1738230025447,
          1738230025549,
          1738230025649,
          1738230025749,
          1738230025850,
          1738230025951,
          1738230026055,
          1738230026155,
          1738230026255,
          1738230026355,
          1738230026457,
          1738230026559,
          1738230026659,
          1738230026760,
          1738230026860,
          1738230026960,
          1738230027060,
          1738230027161,
          1738230027262,
          1738230027365,
          1738230027467,
          1738230027571,
          1738230027671,
          1738230027776,
          1738230027877,
          1738230027980,
          1738230028080,
          1738230028180,
          1738230028280,
          1738230028382,
          1738230028485,
          1738230028585,
          1738230028685,
          1738230028785,
          1738230028885,
          1738230028985,
          1738230029086,
          1738230029189,
          1738230029289,
          1738230029390,
          1738230029490,
          1738230029590,
          1738230029690,
          1738230029790,
          1738230029892,
          1738230029995,
          1738230030095,
          1738230030195,
          1738230030295,
          1738230030395,
          1738230030496,
          1738230030596,
          1738230030700,
          1738230030800,
          1738230030901,
          1738230031005,
          1738230031105,
          1738230031205,
          1738230031305,
          1738230031405
         ],
         "xaxis": "x",
         "y": {
          "bdata": "/Knx0k1iMD/8qfHSTWIwP/p+arx0k0g/eekmMQisTD956SYxCKxMP3npJjEIrEw/eekmMQisTD956SYxCKxMP3npJjEIrEw/+n5qvHSTSD/8qfHSTWIgP/yp8dJNYiA//Knx0k1iID/8qfHSTWIgP/yp8dJNYiA//Knx0k1iID/8qfHSTWIwP/yp8dJNYiA//Knx0k1iMD/8qfHSTWJQP/p+arx0k0g/+n5qvHSTOD/8qfHSTWJQP/yp8dJNYlA//Knx0k1iUD/6fmq8dJNIP/p+arx0k0g/+n5qvHSTSD/6fmq8dJM4P/p+arx0kzg/+n5qvHSTOD/6fmq8dJM4P/p+arx0kzg/+n5qvHSTOD/8qfHSTWIwP/yp8dJNYjA/XJSrXeF6RD/8qfHSTWIgP/yp8dJNYiA//Knx0k1iID/8qfHSTWIgP/yp8dJNYiA//Knx0k1iID/8qfHSTWIgP/yp8dJNYiA/XJSrXeF6RD9clKtd4XpEP1yUq13hekQ/+n5qvHSTOD/6fmq8dJM4P/yp8dJNYkA//Knx0k1iQD/8qfHSTWJAP/yp8dJNYkA/+n5qvHSTSD/8qfHSTWJAP/yp8dJNYlA/+n5qvHSTOD/6fmq8dJM4P/p+arx0kzg/+n5qvHSTOD/8qfHSTWIgP/yp8dJNYjA//Knx0k1iMD/8qfHSTWIwP/yp8dJNYjA/+n5qvHSTOD/8qfHSTWJAP/yp8dJNYlA//Knx0k1iID/8qfHSTWIgP/yp8dJNYiA//Knx0k1iUD/8qfHSTWJQP/yp8dJNYlA//Knx0k1iQD/8qfHSTWJAP/yp8dJNYkA//Knx0k1iQD/8qfHSTWJAP/yp8dJNYkA//Knx0k1iQD/6fmq8dJNIP/p+arx0k0g/+n5qvHSTOD/6fmq8dJM4P/p+arx0kzg/+n5qvHSTOD/6fmq8dJM4P/p+arx0kzg/+n5qvHSTOD/6fmq8dJM4P/yp8dJNYkA/XJSrXeF6RD/8qfHSTWIgP/yp8dJNYiA//Knx0k1iUD/8qfHSTWJQP/yp8dJNYlA//Knx0k1iUD8=",
          "dtype": "f8"
         },
         "yaxis": "y"
        },
        {
         "hovertemplate": "variable=Z<br>Timestamp=%{x}<br>value=%{y}<extra></extra>",
         "legendgroup": "Z",
         "line": {
          "color": "#00cc96",
          "dash": "solid"
         },
         "marker": {
          "symbol": "circle"
         },
         "mode": "lines",
         "name": "Z",
         "orientation": "v",
         "showlegend": true,
         "type": "scatter",
         "x": [
          1738230021408,
          1738230021510,
          1738230021610,
          1738230021711,
          1738230021814,
          1738230021914,
          1738230022015,
          1738230022115,
          1738230022216,
          1738230022320,
          1738230022421,
          1738230022525,
          1738230022625,
          1738230022725,
          1738230022825,
          1738230022926,
          1738230023030,
          1738230023130,
          1738230023230,
          1738230023330,
          1738230023430,
          1738230023530,
          1738230023632,
          1738230023735,
          1738230023835,
          1738230023936,
          1738230024040,
          1738230024140,
          1738230024240,
          1738230024342,
          1738230024444,
          1738230024544,
          1738230024645,
          1738230024745,
          1738230024845,
          1738230024945,
          1738230025045,
          1738230025145,
          1738230025245,
          1738230025346,
          1738230025447,
          1738230025549,
          1738230025649,
          1738230025749,
          1738230025850,
          1738230025951,
          1738230026055,
          1738230026155,
          1738230026255,
          1738230026355,
          1738230026457,
          1738230026559,
          1738230026659,
          1738230026760,
          1738230026860,
          1738230026960,
          1738230027060,
          1738230027161,
          1738230027262,
          1738230027365,
          1738230027467,
          1738230027571,
          1738230027671,
          1738230027776,
          1738230027877,
          1738230027980,
          1738230028080,
          1738230028180,
          1738230028280,
          1738230028382,
          1738230028485,
          1738230028585,
          1738230028685,
          1738230028785,
          1738230028885,
          1738230028985,
          1738230029086,
          1738230029189,
          1738230029289,
          1738230029390,
          1738230029490,
          1738230029590,
          1738230029690,
          1738230029790,
          1738230029892,
          1738230029995,
          1738230030095,
          1738230030195,
          1738230030295,
          1738230030395,
          1738230030496,
          1738230030596,
          1738230030700,
          1738230030800,
          1738230030901,
          1738230031005,
          1738230031105,
          1738230031205,
          1738230031305,
          1738230031405
         ],
         "xaxis": "x",
         "y": {
          "bdata": "/Knx0k1iID/8qfHSTWIgP3npJjEIrEw/+n5qvHSTSD/6fmq8dJNIP/p+arx0k0g/+n5qvHSTSD/8qfHSTWJAP/yp8dJNYkA//Knx0k1iQD/8qfHSTWIwP/yp8dJNYjA/XJSrXeF6RD9clKtd4XpEP1yUq13hekQ/XJSrXeF6RD9clKtd4XpEP1yUq13hekQ/+n5qvHSTSD/6fmq8dJNIP/p+arx0kzg/+n5qvHSTOD/8qfHSTWJQP/yp8dJNYlA//Knx0k1iUD/8qfHSTWIwP/yp8dJNYlA//Knx0k1iUD/8qfHSTWIwP/yp8dJNYjA//Knx0k1iMD/8qfHSTWIwP/yp8dJNYjA//Knx0k1iMD/8qfHSTWIgP/yp8dJNYiA/eekmMQisTD/8qfHSTWJAP/yp8dJNYkA//Knx0k1iQD/8qfHSTWJAP/yp8dJNYkA//Knx0k1iQD/8qfHSTWJAP/yp8dJNYkA/eekmMQisTD956SYxCKxMP3npJjEIrEw/AAAAAAAAAAAAAAAAAAAAAPyp8dJNYkA//Knx0k1iQD/8qfHSTWJAP/yp8dJNYkA/+n5qvHSTSD/8qfHSTWIwP/p+arx0kzg/eekmMQisTD956SYxCKxMP3npJjEIrEw/eekmMQisTD/8qfHSTWIgP/yp8dJNYjA//Knx0k1iMD/8qfHSTWIwP/p+arx0k0g//Knx0k1iMD/8qfHSTWJQP3npJjEIrEw//Knx0k1iQD/8qfHSTWJAP/yp8dJNYkA/+n5qvHSTOD/6fmq8dJM4P/p+arx0kzg//Knx0k1iQD/8qfHSTWJAP/yp8dJNYkA//Knx0k1iQD/8qfHSTWJAP/p+arx0kzg/+n5qvHSTOD956SYxCKxMP3npJjEIrEw//Knx0k1iMD/8qfHSTWIwP/yp8dJNYjA//Knx0k1iMD/8qfHSTWIwP/yp8dJNYjA//Knx0k1iMD/8qfHSTWIwP/yp8dJNYiA/+n5qvHSTOD/6fmq8dJM4P/p+arx0kzg/XJSrXeF6RD9clKtd4XpEP1yUq13hekQ/XJSrXeF6RD8=",
          "dtype": "f8"
         },
         "yaxis": "y"
        }
       ],
       "layout": {
        "legend": {
         "title": {
          "text": "variable"
         },
         "tracegroupgap": 0
        },
        "template": {
         "data": {
          "bar": [
           {
            "error_x": {
             "color": "#2a3f5f"
            },
            "error_y": {
             "color": "#2a3f5f"
            },
            "marker": {
             "line": {
              "color": "#E5ECF6",
              "width": 0.5
             },
             "pattern": {
              "fillmode": "overlay",
              "size": 10,
              "solidity": 0.2
             }
            },
            "type": "bar"
           }
          ],
          "barpolar": [
           {
            "marker": {
             "line": {
              "color": "#E5ECF6",
              "width": 0.5
             },
             "pattern": {
              "fillmode": "overlay",
              "size": 10,
              "solidity": 0.2
             }
            },
            "type": "barpolar"
           }
          ],
          "carpet": [
           {
            "aaxis": {
             "endlinecolor": "#2a3f5f",
             "gridcolor": "white",
             "linecolor": "white",
             "minorgridcolor": "white",
             "startlinecolor": "#2a3f5f"
            },
            "baxis": {
             "endlinecolor": "#2a3f5f",
             "gridcolor": "white",
             "linecolor": "white",
             "minorgridcolor": "white",
             "startlinecolor": "#2a3f5f"
            },
            "type": "carpet"
           }
          ],
          "choropleth": [
           {
            "colorbar": {
             "outlinewidth": 0,
             "ticks": ""
            },
            "type": "choropleth"
           }
          ],
          "contour": [
           {
            "colorbar": {
             "outlinewidth": 0,
             "ticks": ""
            },
            "colorscale": [
             [
              0,
              "#0d0887"
             ],
             [
              0.1111111111111111,
              "#46039f"
             ],
             [
              0.2222222222222222,
              "#7201a8"
             ],
             [
              0.3333333333333333,
              "#9c179e"
             ],
             [
              0.4444444444444444,
              "#bd3786"
             ],
             [
              0.5555555555555556,
              "#d8576b"
             ],
             [
              0.6666666666666666,
              "#ed7953"
             ],
             [
              0.7777777777777778,
              "#fb9f3a"
             ],
             [
              0.8888888888888888,
              "#fdca26"
             ],
             [
              1,
              "#f0f921"
             ]
            ],
            "type": "contour"
           }
          ],
          "contourcarpet": [
           {
            "colorbar": {
             "outlinewidth": 0,
             "ticks": ""
            },
            "type": "contourcarpet"
           }
          ],
          "heatmap": [
           {
            "colorbar": {
             "outlinewidth": 0,
             "ticks": ""
            },
            "colorscale": [
             [
              0,
              "#0d0887"
             ],
             [
              0.1111111111111111,
              "#46039f"
             ],
             [
              0.2222222222222222,
              "#7201a8"
             ],
             [
              0.3333333333333333,
              "#9c179e"
             ],
             [
              0.4444444444444444,
              "#bd3786"
             ],
             [
              0.5555555555555556,
              "#d8576b"
             ],
             [
              0.6666666666666666,
              "#ed7953"
             ],
             [
              0.7777777777777778,
              "#fb9f3a"
             ],
             [
              0.8888888888888888,
              "#fdca26"
             ],
             [
              1,
              "#f0f921"
             ]
            ],
            "type": "heatmap"
           }
          ],
          "histogram": [
           {
            "marker": {
             "pattern": {
              "fillmode": "overlay",
              "size": 10,
              "solidity": 0.2
             }
            },
            "type": "histogram"
           }
          ],
          "histogram2d": [
           {
            "colorbar": {
             "outlinewidth": 0,
             "ticks": ""
            },
            "colorscale": [
             [
              0,
              "#0d0887"
             ],
             [
              0.1111111111111111,
              "#46039f"
             ],
             [
              0.2222222222222222,
              "#7201a8"
             ],
             [
              0.3333333333333333,
              "#9c179e"
             ],
             [
              0.4444444444444444,
              "#bd3786"
             ],
             [
              0.5555555555555556,
              "#d8576b"
             ],
             [
              0.6666666666666666,
              "#ed7953"
             ],
             [
              0.7777777777777778,
              "#fb9f3a"
             ],
             [
              0.8888888888888888,
              "#fdca26"
             ],
             [
              1,
              "#f0f921"
             ]
            ],
            "type": "histogram2d"
           }
          ],
          "histogram2dcontour": [
           {
            "colorbar": {
             "outlinewidth": 0,
             "ticks": ""
            },
            "colorscale": [
             [
              0,
              "#0d0887"
             ],
             [
              0.1111111111111111,
              "#46039f"
             ],
             [
              0.2222222222222222,
              "#7201a8"
             ],
             [
              0.3333333333333333,
              "#9c179e"
             ],
             [
              0.4444444444444444,
              "#bd3786"
             ],
             [
              0.5555555555555556,
              "#d8576b"
             ],
             [
              0.6666666666666666,
              "#ed7953"
             ],
             [
              0.7777777777777778,
              "#fb9f3a"
             ],
             [
              0.8888888888888888,
              "#fdca26"
             ],
             [
              1,
              "#f0f921"
             ]
            ],
            "type": "histogram2dcontour"
           }
          ],
          "mesh3d": [
           {
            "colorbar": {
             "outlinewidth": 0,
             "ticks": ""
            },
            "type": "mesh3d"
           }
          ],
          "parcoords": [
           {
            "line": {
             "colorbar": {
              "outlinewidth": 0,
              "ticks": ""
             }
            },
            "type": "parcoords"
           }
          ],
          "pie": [
           {
            "automargin": true,
            "type": "pie"
           }
          ],
          "scatter": [
           {
            "fillpattern": {
             "fillmode": "overlay",
             "size": 10,
             "solidity": 0.2
            },
            "type": "scatter"
           }
          ],
          "scatter3d": [
           {
            "line": {
             "colorbar": {
              "outlinewidth": 0,
              "ticks": ""
             }
            },
            "marker": {
             "colorbar": {
              "outlinewidth": 0,
              "ticks": ""
             }
            },
            "type": "scatter3d"
           }
          ],
          "scattercarpet": [
           {
            "marker": {
             "colorbar": {
              "outlinewidth": 0,
              "ticks": ""
             }
            },
            "type": "scattercarpet"
           }
          ],
          "scattergeo": [
           {
            "marker": {
             "colorbar": {
              "outlinewidth": 0,
              "ticks": ""
             }
            },
            "type": "scattergeo"
           }
          ],
          "scattergl": [
           {
            "marker": {
             "colorbar": {
              "outlinewidth": 0,
              "ticks": ""
             }
            },
            "type": "scattergl"
           }
          ],
          "scattermap": [
           {
            "marker": {
             "colorbar": {
              "outlinewidth": 0,
              "ticks": ""
             }
            },
            "type": "scattermap"
           }
          ],
          "scattermapbox": [
           {
            "marker": {
             "colorbar": {
              "outlinewidth": 0,
              "ticks": ""
             }
            },
            "type": "scattermapbox"
           }
          ],
          "scatterpolar": [
           {
            "marker": {
             "colorbar": {
              "outlinewidth": 0,
              "ticks": ""
             }
            },
            "type": "scatterpolar"
           }
          ],
          "scatterpolargl": [
           {
            "marker": {
             "colorbar": {
              "outlinewidth": 0,
              "ticks": ""
             }
            },
            "type": "scatterpolargl"
           }
          ],
          "scatterternary": [
           {
            "marker": {
             "colorbar": {
              "outlinewidth": 0,
              "ticks": ""
             }
            },
            "type": "scatterternary"
           }
          ],
          "surface": [
           {
            "colorbar": {
             "outlinewidth": 0,
             "ticks": ""
            },
            "colorscale": [
             [
              0,
              "#0d0887"
             ],
             [
              0.1111111111111111,
              "#46039f"
             ],
             [
              0.2222222222222222,
              "#7201a8"
             ],
             [
              0.3333333333333333,
              "#9c179e"
             ],
             [
              0.4444444444444444,
              "#bd3786"
             ],
             [
              0.5555555555555556,
              "#d8576b"
             ],
             [
              0.6666666666666666,
              "#ed7953"
             ],
             [
              0.7777777777777778,
              "#fb9f3a"
             ],
             [
              0.8888888888888888,
              "#fdca26"
             ],
             [
              1,
              "#f0f921"
             ]
            ],
            "type": "surface"
           }
          ],
          "table": [
           {
            "cells": {
             "fill": {
              "color": "#EBF0F8"
             },
             "line": {
              "color": "white"
             }
            },
            "header": {
             "fill": {
              "color": "#C8D4E3"
             },
             "line": {
              "color": "white"
             }
            },
            "type": "table"
           }
          ]
         },
         "layout": {
          "annotationdefaults": {
           "arrowcolor": "#2a3f5f",
           "arrowhead": 0,
           "arrowwidth": 1
          },
          "autotypenumbers": "strict",
          "coloraxis": {
           "colorbar": {
            "outlinewidth": 0,
            "ticks": ""
           }
          },
          "colorscale": {
           "diverging": [
            [
             0,
             "#8e0152"
            ],
            [
             0.1,
             "#c51b7d"
            ],
            [
             0.2,
             "#de77ae"
            ],
            [
             0.3,
             "#f1b6da"
            ],
            [
             0.4,
             "#fde0ef"
            ],
            [
             0.5,
             "#f7f7f7"
            ],
            [
             0.6,
             "#e6f5d0"
            ],
            [
             0.7,
             "#b8e186"
            ],
            [
             0.8,
             "#7fbc41"
            ],
            [
             0.9,
             "#4d9221"
            ],
            [
             1,
             "#276419"
            ]
           ],
           "sequential": [
            [
             0,
             "#0d0887"
            ],
            [
             0.1111111111111111,
             "#46039f"
            ],
            [
             0.2222222222222222,
             "#7201a8"
            ],
            [
             0.3333333333333333,
             "#9c179e"
            ],
            [
             0.4444444444444444,
             "#bd3786"
            ],
            [
             0.5555555555555556,
             "#d8576b"
            ],
            [
             0.6666666666666666,
             "#ed7953"
            ],
            [
             0.7777777777777778,
             "#fb9f3a"
            ],
            [
             0.8888888888888888,
             "#fdca26"
            ],
            [
             1,
             "#f0f921"
            ]
           ],
           "sequentialminus": [
            [
             0,
             "#0d0887"
            ],
            [
             0.1111111111111111,
             "#46039f"
            ],
            [
             0.2222222222222222,
             "#7201a8"
            ],
            [
             0.3333333333333333,
             "#9c179e"
            ],
            [
             0.4444444444444444,
             "#bd3786"
            ],
            [
             0.5555555555555556,
             "#d8576b"
            ],
            [
             0.6666666666666666,
             "#ed7953"
            ],
            [
             0.7777777777777778,
             "#fb9f3a"
            ],
            [
             0.8888888888888888,
             "#fdca26"
            ],
            [
             1,
             "#f0f921"
            ]
           ]
          },
          "colorway": [
           "#636efa",
           "#EF553B",
           "#00cc96",
           "#ab63fa",
           "#FFA15A",
           "#19d3f3",
           "#FF6692",
           "#B6E880",
           "#FF97FF",
           "#FECB52"
          ],
          "font": {
           "color": "#2a3f5f"
          },
          "geo": {
           "bgcolor": "white",
           "lakecolor": "white",
           "landcolor": "#E5ECF6",
           "showlakes": true,
           "showland": true,
           "subunitcolor": "white"
          },
          "hoverlabel": {
           "align": "left"
          },
          "hovermode": "closest",
          "mapbox": {
           "style": "light"
          },
          "paper_bgcolor": "white",
          "plot_bgcolor": "#E5ECF6",
          "polar": {
           "angularaxis": {
            "gridcolor": "white",
            "linecolor": "white",
            "ticks": ""
           },
           "bgcolor": "#E5ECF6",
           "radialaxis": {
            "gridcolor": "white",
            "linecolor": "white",
            "ticks": ""
           }
          },
          "scene": {
           "xaxis": {
            "backgroundcolor": "#E5ECF6",
            "gridcolor": "white",
            "gridwidth": 2,
            "linecolor": "white",
            "showbackground": true,
            "ticks": "",
            "zerolinecolor": "white"
           },
           "yaxis": {
            "backgroundcolor": "#E5ECF6",
            "gridcolor": "white",
            "gridwidth": 2,
            "linecolor": "white",
            "showbackground": true,
            "ticks": "",
            "zerolinecolor": "white"
           },
           "zaxis": {
            "backgroundcolor": "#E5ECF6",
            "gridcolor": "white",
            "gridwidth": 2,
            "linecolor": "white",
            "showbackground": true,
            "ticks": "",
            "zerolinecolor": "white"
           }
          },
          "shapedefaults": {
           "line": {
            "color": "#2a3f5f"
           }
          },
          "ternary": {
           "aaxis": {
            "gridcolor": "white",
            "linecolor": "white",
            "ticks": ""
           },
           "baxis": {
            "gridcolor": "white",
            "linecolor": "white",
            "ticks": ""
           },
           "bgcolor": "#E5ECF6",
           "caxis": {
            "gridcolor": "white",
            "linecolor": "white",
            "ticks": ""
           }
          },
          "title": {
           "x": 0.05
          },
          "xaxis": {
           "automargin": true,
           "gridcolor": "white",
           "linecolor": "white",
           "ticks": "",
           "title": {
            "standoff": 15
           },
           "zerolinecolor": "white",
           "zerolinewidth": 2
          },
          "yaxis": {
           "automargin": true,
           "gridcolor": "white",
           "linecolor": "white",
           "ticks": "",
           "title": {
            "standoff": 15
           },
           "zerolinecolor": "white",
           "zerolinewidth": 2
          }
         }
        },
        "title": {
         "text": "16 Values Over Time"
        },
        "xaxis": {
         "anchor": "y",
         "domain": [
          0,
          1
         ],
         "title": {
          "text": "Timestamp"
         }
        },
        "yaxis": {
         "anchor": "x",
         "domain": [
          0,
          1
         ],
         "title": {
          "text": "value"
         }
        }
       }
      }
     },
     "metadata": {},
     "output_type": "display_data"
    }
   ],
   "source": [
    "# Plotting function\n",
    "def plot_sensor_values(df, sensor_name):\n",
    "    \"\"\"\n",
    "    Plots the x, y, z values of the specified sensor.\n",
    "    \n",
    "    :param df: DataFrame containing the sensor data\n",
    "    :param sensor_name: Name of the sensor to plot\n",
    "    \"\"\"\n",
    "    # Filter the DataFrame for the specified sensor\n",
    "    sensor_df = df[df['Sensor Type'] == sensor_name]\n",
    "    \n",
    "    # Extract the x, y, z values\n",
    "    timestamps = sensor_df['Timestamp']\n",
    "    values = sensor_df['Values'].tolist()\n",
    "    x_values = [v[0] for v in values]\n",
    "    y_values = [v[1] for v in values]\n",
    "    z_values = [v[2] for v in values]\n",
    "    \n",
    "    # Create a DataFrame for plotting\n",
    "    plot_df = pd.DataFrame({\n",
    "        'Timestamp': timestamps,\n",
    "        'X': x_values,\n",
    "        'Y': y_values,\n",
    "        'Z': z_values\n",
    "    })\n",
    "    \n",
    "    # Plot the values using Plotly\n",
    "    fig = px.line(plot_df, x='Timestamp', y=['X', 'Y', 'Z'], title=f'{sensor_name} Values Over Time')\n",
    "    fig.show()\n",
    "\n",
    "# Example usage\n",
    "plot_sensor_values(df, 16)"
   ]
  }
 ],
 "metadata": {
  "kernelspec": {
   "display_name": "iot",
   "language": "python",
   "name": "python3"
  },
  "language_info": {
   "codemirror_mode": {
    "name": "ipython",
    "version": 3
   },
   "file_extension": ".py",
   "mimetype": "text/x-python",
   "name": "python",
   "nbconvert_exporter": "python",
   "pygments_lexer": "ipython3",
   "version": "3.12.8"
  }
 },
 "nbformat": 4,
 "nbformat_minor": 2
}
